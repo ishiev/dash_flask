{
 "cells": [
  {
   "cell_type": "code",
   "execution_count": 1,
   "metadata": {},
   "outputs": [],
   "source": [
    "%load_ext autoreload\n",
    "%autoreload 2\n",
    "# from users_mgt import db\n",
    "# from server import server\n",
    "# import users_mgt as um \n",
    "from users_mgt import User, Action\n",
    "from config import engine"
   ]
  },
  {
   "cell_type": "code",
   "execution_count": 4,
   "metadata": {},
   "outputs": [],
   "source": [
    "\n",
    "\n",
    "Action.metadata.create_all(engine)\n",
    "User.metadata.create_all(engine)"
   ]
  },
  {
   "cell_type": "code",
   "execution_count": 2,
   "metadata": {},
   "outputs": [],
   "source": [
    "# from flask import Flask\n",
    "# from flask_sqlalchemy import SQLAlchemy\n",
    "\n",
    "# app.config['SQLALCHEMY_DATABASE_URI'] = 'sqlite:///users.db'\n",
    "# app = Flask(__name__)\n",
    "# db = SQLAlchemy(app)\n",
    "# app.run()"
   ]
  },
  {
   "cell_type": "code",
   "execution_count": 38,
   "metadata": {},
   "outputs": [
    {
     "name": "stderr",
     "output_type": "stream",
     "text": [
      "/home/alice/.local/lib/python3.6/site-packages/flask_sqlalchemy/__init__.py:794: FSADeprecationWarning:\n",
      "\n",
      "SQLALCHEMY_TRACK_MODIFICATIONS adds significant overhead and will be disabled by default in the future.  Set it to True or False to suppress this warning.\n",
      "\n"
     ]
    }
   ],
   "source": [
    "a = Action(description=\"Login\", owner=)"
   ]
  },
  {
   "cell_type": "code",
   "execution_count": null,
   "metadata": {},
   "outputs": [],
   "source": [
    "User.query.all()"
   ]
  },
  {
   "cell_type": "code",
   "execution_count": 2,
   "metadata": {},
   "outputs": [],
   "source": [
    "um.create_user_table()"
   ]
  },
  {
   "cell_type": "code",
   "execution_count": 4,
   "metadata": {},
   "outputs": [],
   "source": [
    "um.add_user('test','test1','test@test.com')"
   ]
  },
  {
   "cell_type": "code",
   "execution_count": 5,
   "metadata": {},
   "outputs": [
    {
     "ename": "SyntaxError",
     "evalue": "invalid syntax (<ipython-input-5-794af9787097>, line 2)",
     "output_type": "error",
     "traceback": [
      "\u001b[0;36m  File \u001b[0;32m\"<ipython-input-5-794af9787097>\"\u001b[0;36m, line \u001b[0;32m2\u001b[0m\n\u001b[0;31m    [{'_sa_instance_state': <sqlalchemy.orm.state.InstanceState object at 0x7fac0e08a8d0>, 'time': datetime.datetime(2019, 6, 8, 17, 35, 50, 986798), 'description': 'Login in.', 'owner_id': 1, 'id': 1}, {'_sa_instance_state': <sqlalchemy.orm.state.InstanceState object at 0x7fac0e08ab38>, 'time': datetime.datetime(2019, 6, 8, 17, 39, 42, 150912), 'description': 'Login in.', 'owner_id': 1, 'id': 2}, {'_sa_instance_state': <sqlalchemy.orm.state.InstanceState object at 0x7fac0e0b2080>, 'time': datetime.datetime(2019, 6, 8, 17, 40, 41, 402138), 'description': 'Login in.', 'owner_id': 1, 'id': 3}, {'_sa_instance_state': <sqlalchemy.orm.state.InstanceState object at 0x7fac0e0b20f0>, 'time': datetime.datetime(2019, 6, 8, 17, 40, 57, 224680), 'description': 'Login in.', 'owner_id': 1, 'id': 4}, {'_sa_instance_state': <sqlalchemy.orm.state.InstanceState object at 0x7fac0e0b2160>, 'time': datetime.datetime(2019, 6, 8, 17, 41, 14, 226884), 'description': 'Login in.', 'owner_id': 1, 'id': 5}, {'_sa_instance_state': <sqlalchemy.orm.state.InstanceState object at 0x7fac0e0b2208>, 'time': datetime.datetime(2019, 6, 8, 17, 41, 43, 547571), 'description': 'Login in.', 'owner_id': 1, 'id': 6}, {'_sa_instance_state': <sqlalchemy.orm.state.InstanceState object at 0x7fac0e0b22b0>, 'time': datetime.datetime(2019, 6, 8, 17, 42, 13, 519675), 'description': 'Login in.', 'owner_id': 1, 'id': 7}, {'_sa_instance_state': <sqlalchemy.orm.state.InstanceState object at 0x7fac0e08a748>, 'time': datetime.datetime(2019, 6, 8, 17, 43, 53, 127686), 'description': 'Login in.', 'owner_id': 1, 'id': 8}]\u001b[0m\n\u001b[0m                            ^\u001b[0m\n\u001b[0;31mSyntaxError\u001b[0m\u001b[0;31m:\u001b[0m invalid syntax\n"
     ]
    }
   ],
   "source": [
    "import datetime\n",
    "[{'_sa_instance_state': <sqlalchemy.orm.state.InstanceState object at 0x7fac0e08a8d0>, 'time': datetime.datetime(2019, 6, 8, 17, 35, 50, 986798), 'description': 'Login in.', 'owner_id': 1, 'id': 1}, {'_sa_instance_state': <sqlalchemy.orm.state.InstanceState object at 0x7fac0e08ab38>, 'time': datetime.datetime(2019, 6, 8, 17, 39, 42, 150912), 'description': 'Login in.', 'owner_id': 1, 'id': 2}, {'_sa_instance_state': <sqlalchemy.orm.state.InstanceState object at 0x7fac0e0b2080>, 'time': datetime.datetime(2019, 6, 8, 17, 40, 41, 402138), 'description': 'Login in.', 'owner_id': 1, 'id': 3}, {'_sa_instance_state': <sqlalchemy.orm.state.InstanceState object at 0x7fac0e0b20f0>, 'time': datetime.datetime(2019, 6, 8, 17, 40, 57, 224680), 'description': 'Login in.', 'owner_id': 1, 'id': 4}, {'_sa_instance_state': <sqlalchemy.orm.state.InstanceState object at 0x7fac0e0b2160>, 'time': datetime.datetime(2019, 6, 8, 17, 41, 14, 226884), 'description': 'Login in.', 'owner_id': 1, 'id': 5}, {'_sa_instance_state': <sqlalchemy.orm.state.InstanceState object at 0x7fac0e0b2208>, 'time': datetime.datetime(2019, 6, 8, 17, 41, 43, 547571), 'description': 'Login in.', 'owner_id': 1, 'id': 6}, {'_sa_instance_state': <sqlalchemy.orm.state.InstanceState object at 0x7fac0e0b22b0>, 'time': datetime.datetime(2019, 6, 8, 17, 42, 13, 519675), 'description': 'Login in.', 'owner_id': 1, 'id': 7}, {'_sa_instance_state': <sqlalchemy.orm.state.InstanceState object at 0x7fac0e08a748>, 'time': datetime.datetime(2019, 6, 8, 17, 43, 53, 127686), 'description': 'Login in.', 'owner_id': 1, 'id': 8}]\n"
   ]
  },
  {
   "cell_type": "code",
   "execution_count": 6,
   "metadata": {},
   "outputs": [],
   "source": [
    "um.del_user('test')"
   ]
  },
  {
   "cell_type": "code",
   "execution_count": null,
   "metadata": {},
   "outputs": [],
   "source": []
  }
 ],
 "metadata": {
  "kernelspec": {
   "display_name": "Python 3",
   "language": "python",
   "name": "python3"
  },
  "language_info": {
   "codemirror_mode": {
    "name": "ipython",
    "version": 3
   },
   "file_extension": ".py",
   "mimetype": "text/x-python",
   "name": "python",
   "nbconvert_exporter": "python",
   "pygments_lexer": "ipython3",
   "version": "3.6.7"
  }
 },
 "nbformat": 4,
 "nbformat_minor": 2
}
